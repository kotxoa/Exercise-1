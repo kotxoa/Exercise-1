{
 "cells": [
  {
   "cell_type": "code",
   "execution_count": 7,
   "id": "fc8ee2b6-95d8-482a-b2c7-86fb85c9f186",
   "metadata": {},
   "outputs": [],
   "source": [
    "ice_cream_rating = 7\n",
    "sleeping_rating = 9"
   ]
  },
  {
   "cell_type": "code",
   "execution_count": 8,
   "id": "84aab5cb-4fc5-4f2c-89b1-91e88f72c611",
   "metadata": {},
   "outputs": [],
   "source": [
    "first_name = 'Kepa'\n",
    "last_name = 'Otxoa de Alda'\n",
    "my_name = first_name + ' ' + last_name"
   ]
  },
  {
   "cell_type": "code",
   "execution_count": 9,
   "id": "9b274efa-f82a-44ef-8c53-f909b3aec664",
   "metadata": {},
   "outputs": [],
   "source": [
    "happiness_rating = (sleeping_rating + ice_cream_rating) / 2"
   ]
  },
  {
   "cell_type": "code",
   "execution_count": 10,
   "id": "a3b8e1a3-0baf-4d96-b273-5c91fb85c291",
   "metadata": {},
   "outputs": [
    {
     "name": "stdout",
     "output_type": "stream",
     "text": [
      "<class 'int'> <class 'str'> <class 'float'>\n"
     ]
    }
   ],
   "source": [
    "print(type(ice_cream_rating), type(first_name), type(happiness_rating))"
   ]
  },
  {
   "cell_type": "markdown",
   "id": "978fd4cf-d0a6-4137-928f-290d7ff80443",
   "metadata": {},
   "source": [
    "Menudo lío"
   ]
  },
  {
   "cell_type": "code",
   "execution_count": 12,
   "id": "e1ce07af-3286-4131-ab9c-39863bbda3fc",
   "metadata": {},
   "outputs": [
    {
     "name": "stdout",
     "output_type": "stream",
     "text": [
      "My name is Kepa and I give eating ice cream a score of 7 out of 10!\n"
     ]
    }
   ],
   "source": [
    "print('My name is', first_name, 'and I give eating ice cream a score of', ice_cream_rating, 'out of 10!')"
   ]
  },
  {
   "cell_type": "code",
   "execution_count": 16,
   "id": "bd8fe7ca-2c77-4fad-8a8f-074b55705178",
   "metadata": {},
   "outputs": [
    {
     "name": "stdout",
     "output_type": "stream",
     "text": [
      "I am Kepa Otxoa de Alda and my sleeping enjoyment rating is 9 / 10!\n"
     ]
    }
   ],
   "source": [
    "print('I am', my_name, 'and my sleeping enjoyment rating is', sleeping_rating, '/ 10!')"
   ]
  },
  {
   "cell_type": "code",
   "execution_count": 17,
   "id": "e8b55585-dc98-4d31-a192-9cf8c94b3c12",
   "metadata": {},
   "outputs": [
    {
     "name": "stdout",
     "output_type": "stream",
     "text": [
      "Based on the factors above, my happiness rating is 8.0 out of 10, or 80.0 %!\n"
     ]
    }
   ],
   "source": [
    "print('Based on the factors above, my happiness rating is', happiness_rating, 'out of 10, or', happiness_rating * 10, '%!')"
   ]
  },
  {
   "cell_type": "code",
   "execution_count": null,
   "id": "9129c59c-7798-49f7-b91b-903a609efb9a",
   "metadata": {},
   "outputs": [],
   "source": []
  }
 ],
 "metadata": {
  "kernelspec": {
   "display_name": "Python 3 (ipykernel)",
   "language": "python",
   "name": "python3"
  },
  "language_info": {
   "codemirror_mode": {
    "name": "ipython",
    "version": 3
   },
   "file_extension": ".py",
   "mimetype": "text/x-python",
   "name": "python",
   "nbconvert_exporter": "python",
   "pygments_lexer": "ipython3",
   "version": "3.8.18"
  }
 },
 "nbformat": 4,
 "nbformat_minor": 5
}
